{
 "cells": [
  {
   "cell_type": "code",
   "execution_count": 2,
   "metadata": {},
   "outputs": [],
   "source": [
    "import pandas as pd\n",
    "import mechanize\n",
    "from bs4 import BeautifulSoup\n",
    "import urllib2 \n",
    "import cookielib\n",
    "import requests\n",
    "import sys\n",
    "sys.path.append('./Connection/')\n",
    "from connection import Connection\n",
    "sys.path.append('./Phase')\n",
    "from phase1 import Phase1\n",
    "from phase2 import Phase2"
   ]
  },
  {
   "cell_type": "code",
   "execution_count": 3,
   "metadata": {},
   "outputs": [
    {
     "ename": "NameError",
     "evalue": "name 'Phase2' is not defined",
     "output_type": "error",
     "traceback": [
      "\u001b[0;31m---------------------------------------------------------------------------\u001b[0m",
      "\u001b[0;31mNameError\u001b[0m                                 Traceback (most recent call last)",
      "\u001b[0;32m<ipython-input-3-3d2d67b5f976>\u001b[0m in \u001b[0;36m<module>\u001b[0;34m()\u001b[0m\n\u001b[0;32m----> 1\u001b[0;31m \u001b[0mph\u001b[0m \u001b[0;34m=\u001b[0m \u001b[0mPhase2\u001b[0m\u001b[0;34m(\u001b[0m\u001b[0mconcat\u001b[0m\u001b[0;34m=\u001b[0m\u001b[0mTrue\u001b[0m\u001b[0;34m)\u001b[0m\u001b[0;34m\u001b[0m\u001b[0m\n\u001b[0m",
      "\u001b[0;31mNameError\u001b[0m: name 'Phase2' is not defined"
     ]
    }
   ],
   "source": [
    "ph = Phase2(concat=True)"
   ]
  },
  {
   "cell_type": "code",
   "execution_count": 1,
   "metadata": {
    "scrolled": false
   },
   "outputs": [
    {
     "ename": "NameError",
     "evalue": "name 'ph' is not defined",
     "output_type": "error",
     "traceback": [
      "\u001b[0;31m---------------------------------------------------------------------------\u001b[0m",
      "\u001b[0;31mNameError\u001b[0m                                 Traceback (most recent call last)",
      "\u001b[0;32m<ipython-input-1-db93148761f1>\u001b[0m in \u001b[0;36m<module>\u001b[0;34m()\u001b[0m\n\u001b[0;32m----> 1\u001b[0;31m \u001b[0mph\u001b[0m\u001b[0;34m.\u001b[0m\u001b[0mfilterPhaseReports\u001b[0m\u001b[0;34m(\u001b[0m\u001b[0;34m)\u001b[0m\u001b[0;34m\u001b[0m\u001b[0m\n\u001b[0m\u001b[1;32m      2\u001b[0m \u001b[0mph\u001b[0m\u001b[0;34m.\u001b[0m\u001b[0mreport\u001b[0m\u001b[0;34m=\u001b[0m\u001b[0mph\u001b[0m\u001b[0;34m.\u001b[0m\u001b[0msort_repo\u001b[0m\u001b[0;34m(\u001b[0m\u001b[0;34m'email'\u001b[0m\u001b[0;34m)\u001b[0m\u001b[0;34m\u001b[0m\u001b[0m\n\u001b[1;32m      3\u001b[0m \u001b[0mdf\u001b[0m\u001b[0;34m=\u001b[0m\u001b[0mph\u001b[0m\u001b[0;34m.\u001b[0m\u001b[0mconsolidate_repo\u001b[0m\u001b[0;34m(\u001b[0m\u001b[0;34m)\u001b[0m\u001b[0;34m\u001b[0m\u001b[0m\n\u001b[1;32m      4\u001b[0m \u001b[0mdf\u001b[0m\u001b[0;34m.\u001b[0m\u001b[0mto_csv\u001b[0m\u001b[0;34m(\u001b[0m\u001b[0;34m'1.csv'\u001b[0m\u001b[0;34m)\u001b[0m\u001b[0;34m\u001b[0m\u001b[0m\n\u001b[1;32m      5\u001b[0m \u001b[0;31m# both_survey_completed= ph.both_survey_completed(df)\u001b[0m\u001b[0;34m\u001b[0m\u001b[0;34m\u001b[0m\u001b[0m\n",
      "\u001b[0;31mNameError\u001b[0m: name 'ph' is not defined"
     ]
    }
   ],
   "source": [
    "ph.filterPhaseReports()\n",
    "ph.report=ph.sort_repo('email')\n",
    "df=ph.consolidate_repo()\n",
    "df.to_csv('1.csv')\n",
    "# both_survey_completed= ph.both_survey_completed(df)\n",
    "# print \"both survey completed \"+ str(len(both_survey_completed))\n",
    "# single_survey_completed = ph.single_survey_completed(df)\n",
    "# print \"single survey completed \"+ str(len(single_survey_completed))\n",
    "\n",
    "# df=ph.percent_difference(df,both_survey_completed)\n",
    "\n",
    "# df.to_csv('3.csv')\n",
    "\n",
    "\n",
    "\n",
    "\n",
    "\n",
    "\n",
    "# ##### d ##########\n",
    "# filter = df[\"email\"] != \"\"\n",
    "# dfNew = df[filter]\n",
    "# total_participants  = len(dfNew)\n",
    "# # print dfNew\n",
    "# sum_boss=0\n",
    "# sum_bag=0\n",
    "# email_1_col_index = df.columns.get_loc(\"email_1\")\n",
    "# for i in range(len(df)):\n",
    "#     if dfNew.iat[i,email_1_col_index]=='':\n",
    "#         if dfNew.iat[i,1]==\"Boss' Dinner\":\n",
    "#             sum_boss =sum_boss+dfNew[i,14]\n",
    "#         elif dfNew.iat[i,1]==\"Bagging Groceries\":\n",
    "#             sum_bag = sum_bag+dfNew[i,14]\n",
    "#     else:\n",
    "        "
   ]
  },
  {
   "cell_type": "code",
   "execution_count": null,
   "metadata": {},
   "outputs": [],
   "source": []
  }
 ],
 "metadata": {
  "kernelspec": {
   "display_name": "Python 2",
   "language": "python",
   "name": "python2"
  },
  "language_info": {
   "codemirror_mode": {
    "name": "ipython",
    "version": 2
   },
   "file_extension": ".py",
   "mimetype": "text/x-python",
   "name": "python",
   "nbconvert_exporter": "python",
   "pygments_lexer": "ipython2",
   "version": "2.7.14"
  }
 },
 "nbformat": 4,
 "nbformat_minor": 2
}
