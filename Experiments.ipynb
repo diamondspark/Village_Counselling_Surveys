{
 "cells": [
  {
   "cell_type": "code",
   "execution_count": 1,
   "metadata": {},
   "outputs": [
    {
     "name": "stdout",
     "output_type": "stream",
     "text": [
      "/Users/mop2014/Desktop/_Mohit/Village_Counselling_Surveys\n"
     ]
    }
   ],
   "source": [
    "import os\n",
    "print (os.getcwd())\n",
    "import pandas as pd\n",
    "from bs4 import BeautifulSoup\n",
    "# import urllib2 \n",
    "# import cookielib\n",
    "import requests\n",
    "import sys\n",
    "sys.path.append('./Connection/')\n",
    "from connection import Connection\n",
    "sys.path.append('./Phase')\n",
    "from phase1 import Phase1\n",
    "from phase2 import Phase2"
   ]
  },
  {
   "cell_type": "code",
   "execution_count": 2,
   "metadata": {},
   "outputs": [],
   "source": [
    "ph = Phase2(True,concat=True)"
   ]
  },
  {
   "cell_type": "code",
   "execution_count": 3,
   "metadata": {
    "scrolled": false
   },
   "outputs": [
    {
     "name": "stdout",
     "output_type": "stream",
     "text": [
      "both survey completed 16\n",
      "single survey completed 45\n"
     ]
    }
   ],
   "source": [
    "ph.filterPhaseReports()\n",
    "ph.report=ph.sort_repo('email')\n",
    "df=ph.consolidate_repo()\n",
    "df.to_csv('1.csv')\n",
    "both_survey_completed= ph.both_survey_completed(df)\n",
    "print( \"both survey completed \"+ str(len(both_survey_completed)))\n",
    "single_survey_completed = ph.single_survey_completed(df)\n",
    "print (\"single survey completed \"+ str(len(single_survey_completed)))\n",
    "\n",
    "df=ph.percent_difference(df,both_survey_completed)\n",
    "\n",
    "# df.to_csv('3.csv')\n",
    "\n",
    "\n",
    "\n",
    "\n",
    "\n",
    "\n",
    "# ##### d ##########\n",
    "# filter = df[\"email\"] != \"\"\n",
    "# dfNew = df[filter]\n",
    "# total_participants  = len(dfNew)\n",
    "# # print dfNew\n",
    "# sum_boss=0\n",
    "# sum_bag=0\n",
    "# email_1_col_index = df.columns.get_loc(\"email_1\")\n",
    "# for i in range(len(df)):\n",
    "#     if dfNew.iat[i,email_1_col_index]=='':\n",
    "#         if dfNew.iat[i,1]==\"Boss' Dinner\":\n",
    "#             sum_boss =sum_boss+dfNew[i,14]\n",
    "#         elif dfNew.iat[i,1]==\"Bagging Groceries\":\n",
    "#             sum_bag = sum_bag+dfNew[i,14]\n",
    "#     else:\n",
    "        "
   ]
  },
  {
   "cell_type": "code",
   "execution_count": null,
   "metadata": {
    "collapsed": true
   },
   "outputs": [],
   "source": []
  }
 ],
 "metadata": {
  "kernelspec": {
   "display_name": "Python 3",
   "language": "python",
   "name": "python3"
  },
  "language_info": {
   "codemirror_mode": {
    "name": "ipython",
    "version": 3
   },
   "file_extension": ".py",
   "mimetype": "text/x-python",
   "name": "python",
   "nbconvert_exporter": "python",
   "pygments_lexer": "ipython3",
   "version": "3.5.4"
  }
 },
 "nbformat": 4,
 "nbformat_minor": 2
}
