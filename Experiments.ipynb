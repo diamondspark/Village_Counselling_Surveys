{
 "cells": [
  {
   "cell_type": "code",
   "execution_count": null,
   "metadata": {},
   "outputs": [],
   "source": [
    "import pandas as pd\n",
    "import mechanize\n",
    "from bs4 import BeautifulSoup\n",
    "import urllib2 \n",
    "import cookielib\n",
    "import requests\n",
    "import sys\n",
    "sys.path.append('./Connection/')\n",
    "from connection import Connection\n",
    "from phase import Phase"
   ]
  },
  {
   "cell_type": "code",
   "execution_count": null,
   "metadata": {},
   "outputs": [],
   "source": [
    "ph = Phase(True)\n",
    "ph.report=ph.sort_repo('email')\n",
    "ph.consolidate_repo()\n"
   ]
  },
  {
   "cell_type": "code",
   "execution_count": null,
   "metadata": {},
   "outputs": [],
   "source": [
    "df=df.sort('email')\n",
    "df=df.applymap(str)\n",
    "for i in range(len(df)):\n",
    "    \n",
    "    if i == len(df)-1:\n",
    "        for j in range(0,17):\n",
    "            df.iat[i,17+j]=''\n",
    "        break\n",
    "    else:\n",
    "        \n",
    "        if df.iat[i,7]== df.iat[i+1,7]:\n",
    "            for j in range(0,17):\n",
    "                df.iat[i,j+17]= df.iat[i+1,j]\n",
    "                df.iat[i+1,j]=''\n",
    "        else:\n",
    "            for j in range(0,17):\n",
    "                df.iat[i,17+j]=''\n",
    "    \n",
    "    \n",
    "df.to_csv('test.csv')"
   ]
  },
  {
   "cell_type": "code",
   "execution_count": null,
   "metadata": {},
   "outputs": [],
   "source": [
    "df"
   ]
  },
  {
   "cell_type": "code",
   "execution_count": null,
   "metadata": {},
   "outputs": [],
   "source": [
    "type(df.iat[0,0])"
   ]
  },
  {
   "cell_type": "code",
   "execution_count": null,
   "metadata": {},
   "outputs": [],
   "source": [
    "data = {'Commander': ['Jason', 'Molly', 'Tina', 'Jake', 'Amy'], \n",
    "        'Date': ['2012, 02, 08', '2012, 02, 08', '2012, 02, 08', '2012, 02, 08', '2012, 02, 08'], \n",
    "        'Score': [4, 24, 31, 2, 3]}\n",
    "df = pd.DataFrame(data, index = ['Cochice', 'Pima', 'Santa Cruz', 'Maricopa', 'Yuma'])\n",
    "df.columns = [''] * len(df.columns)\n",
    "df.columns=['A','B']"
   ]
  },
  {
   "cell_type": "code",
   "execution_count": null,
   "metadata": {},
   "outputs": [],
   "source": []
  }
 ],
 "metadata": {
  "kernelspec": {
   "display_name": "Python 2",
   "language": "python",
   "name": "python2"
  },
  "language_info": {
   "codemirror_mode": {
    "name": "ipython",
    "version": 2
   },
   "file_extension": ".py",
   "mimetype": "text/x-python",
   "name": "python",
   "nbconvert_exporter": "python",
   "pygments_lexer": "ipython2",
   "version": "2.7.14"
  }
 },
 "nbformat": 4,
 "nbformat_minor": 2
}
